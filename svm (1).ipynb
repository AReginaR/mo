{
  "nbformat": 4,
  "nbformat_minor": 0,
  "metadata": {
    "colab": {
      "name": "svm.ipynb",
      "provenance": []
    },
    "kernelspec": {
      "name": "python3",
      "display_name": "Python 3"
    },
    "language_info": {
      "name": "python"
    }
  },
  "cells": [
    {
      "cell_type": "code",
      "metadata": {
        "id": "x_EC7qNdZvxg"
      },
      "source": [
        "import numpy as np\n",
        "import matplotlib.pyplot as plt\n",
        "import random"
      ],
      "execution_count": 9,
      "outputs": []
    },
    {
      "cell_type": "code",
      "source": [
        "def generateData(numberOfClassEl, numberOfClasses): \n",
        "    radius = 50 \n",
        "    data_x = [] \n",
        "    data_y = []\n",
        "    for classNum in range(numberOfClasses): \n",
        "        centerX, centerY = random.randint(radius, 600 - radius), random.randint(radius, 400 - radius) \n",
        "        for rowNum in range(numberOfClassEl): \n",
        "            data_x.append([random.gauss(centerX, radius/2), random.gauss(centerY, radius/2)]) \n",
        "            data_y.append(classNum)\n",
        "    return np.array(data_x), np.array(data_y)"
      ],
      "metadata": {
        "id": "DedTyPPAW6cC"
      },
      "execution_count": 10,
      "outputs": []
    },
    {
      "cell_type": "code",
      "source": [
        "X, Y = generateData(50, 2)"
      ],
      "metadata": {
        "id": "BgoyO6MVMmCF"
      },
      "execution_count": 11,
      "outputs": []
    },
    {
      "cell_type": "code",
      "source": [
        "for i in range(len(X)):\n",
        "    if Y[i] == 0:\n",
        "        plt.scatter(X[i][0], X[i][1], c='r')\n",
        "    else:\n",
        "        plt.scatter(X[i][0], X[i][1], c='b')\n",
        "\n",
        "plt.plot()"
      ],
      "metadata": {
        "colab": {
          "base_uri": "https://localhost:8080/",
          "height": 282
        },
        "id": "VZdCJYTDedPR",
        "outputId": "7f29b7cc-2600-4ff3-b600-80b746aed376"
      },
      "execution_count": 12,
      "outputs": [
        {
          "output_type": "execute_result",
          "data": {
            "text/plain": [
              "[]"
            ]
          },
          "metadata": {},
          "execution_count": 12
        },
        {
          "output_type": "display_data",
          "data": {
            "image/png": "[encoded data removed]",
            "text/plain": [
              "<Figure size 432x288 with 1 Axes>"
            ]
          },
          "metadata": {
            "needs_background": "light"
          }
        }
      ]
    },
    {
      "cell_type": "code",
      "source": [
        "class SVM:\n",
        "\n",
        "  def __init__(self, C=10000.0, max_iter=10000, degree=3, gamma=1):\n",
        "    self.kernel = lambda x,y: np.dot(x, y.T)\n",
        "    self.C = C\n",
        "    self.max_iter = max_iter\n",
        "\n",
        "  def restrict_to_square(self, t, v0, u): \n",
        "    t = (np.clip(v0 + t*u, 0, self.C) - v0)[1]/u[1]\n",
        "    return (np.clip(v0 + t*u, 0, self.C) - v0)[0]/u[0]\n",
        "\n",
        "  def fit(self, X, y):\n",
        "    self.X = X.copy()\n",
        "    self.y = y * 2 - 1 \n",
        "    self.w = np.zeros_like(self.y, dtype=float)\n",
        "    self.K =  np.dot(self.X, self.X.T) * self.y[:,np.newaxis] * self.y\n",
        "\n",
        "    for _ in range(self.max_iter):\n",
        "      for i in range(len(self.w)):                                    \n",
        "        j = np.random.randint(0, len(self.w))                         \n",
        "        Q = self.K[[[i, i], [j, j]], [[i, j], [i, j]]] \n",
        "        v0 = self.w[[i, j]]                                        \n",
        "        k0 = 1 - np.sum(self.w * self.K[[i, j]], axis=1)           \n",
        "        u = np.array([-self.y[j], self.y[i]])                            \n",
        "        t_max = np.dot(k0, u) / (np.dot(np.dot(Q, u), u) + 1E-15) \n",
        "        self.w[[i, j]] = v0 + u * self.restrict_to_square(t_max, v0, u)\n",
        "\n",
        "    idx, = np.nonzero(self.w > 1E-15) \n",
        "    self.b = np.mean((1.0-np.sum(self.K[idx]*self.w, axis=1))*self.y[idx]) \n",
        "  \n",
        "  def decision_function(self, X):\n",
        "    return np.sum(np.dot(X, self.X.T) * self.y * self.w, axis=1) + self.b\n",
        "\n",
        "  def predict(self, X): \n",
        "    return (np.sign(self.decision_function(X)) + 1) // 2"
      ],
      "metadata": {
        "id": "vhlETRG2pbbv"
      },
      "execution_count": 13,
      "outputs": []
    },
    {
      "cell_type": "code",
      "source": [
        "svm = SVM(C=10, max_iter=1000)\n",
        "svm.fit(X, Y)"
      ],
      "metadata": {
        "id": "wqCllkU6NbkO"
      },
      "execution_count": 14,
      "outputs": []
    },
    {
      "cell_type": "code",
      "source": [
        "xmin = [np.min(X[:, 0]), np.max(X[:, 0])]\n",
        "ymin = [np.min(X[:, 1]), np.max(X[:, 1])]\n",
        "xx, yy = np.meshgrid(np.linspace(*xmin), np.linspace(*ymin))\n",
        "z = svm.decision_function(np.c_[xx.ravel(), yy.ravel()]).reshape(xx.shape)"
      ],
      "metadata": {
        "id": "odUrrHlgORKr"
      },
      "execution_count": 15,
      "outputs": []
    },
    {
      "cell_type": "code",
      "source": [
        "for i in range(len(X)):\n",
        "    if Y[i] == 0:\n",
        "        plt.scatter(X[i][0], X[i][1], c='r')\n",
        "    else:\n",
        "        plt.scatter(X[i][0], X[i][1], c='b')\n",
        "\n",
        "plt.contour(xx, yy, z, colors='grey', levels=[-1, 0, 1], alpha=0.5, linestyles=['--', '-', '--'])\n",
        "\n",
        "plt.plot()"
      ],
      "metadata": {
        "colab": {
          "base_uri": "https://localhost:8080/",
          "height": 282
        },
        "id": "XJMlCiRZRj3K",
        "outputId": "b0301028-fd15-43b2-f075-1a41f8b46e4c"
      },
      "execution_count": 16,
      "outputs": [
        {
          "output_type": "execute_result",
          "data": {
            "text/plain": [
              "[]"
            ]
          },
          "metadata": {},
          "execution_count": 16
        },
        {
          "output_type": "display_data",
          "data": {
            "image/png": "[encoded data removed]",
            "text/plain": [
              "<Figure size 432x288 with 1 Axes>"
            ]
          },
          "metadata": {
            "needs_background": "light"
          }
        }
      ]
    }
  ]
}