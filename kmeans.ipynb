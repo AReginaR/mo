{
  "nbformat": 4,
  "nbformat_minor": 0,
  "metadata": {
    "colab": {
      "name": "kmeans",
      "provenance": [],
      "collapsed_sections": []
    },
    "kernelspec": {
      "name": "python3",
      "display_name": "Python 3"
    },
    "language_info": {
      "name": "python"
    }
  },
  "cells": [
    {
      "cell_type": "code",
      "source": [
        "import random\n",
        "import numpy as np\n",
        "import pandas as pd\n",
        "import matplotlib.pyplot as plt"
      ],
      "metadata": {
        "id": "BI5EZGkmRZaW"
      },
      "execution_count": 171,
      "outputs": []
    },
    {
      "cell_type": "code",
      "execution_count": 172,
      "metadata": {
        "id": "LPtlJMZ5uRnf"
      },
      "outputs": [],
      "source": [
        "def dist(a,b):\n",
        "    return np.sqrt((a['x'] - b['x'])**2+(a['y'] - b['y'])**2)\n",
        "\n",
        "def random_points(n):\n",
        "    points = []\n",
        "    for i in range(n):\n",
        "        point = {}\n",
        "        point['x'] = random.randint(0, 1000)\n",
        "        point['y'] = random.randint(0, 1000)\n",
        "        points.append(point)\n",
        "    return points\n",
        "\n",
        "def get_centroids(points, k):\n",
        "    x_sum, y_sum = 0, 0\n",
        "    for i in range(len(points)):\n",
        "        x_sum += points[i]['x']\n",
        "        y_sum += points[i]['y']\n",
        "    x_sum /= len(points)\n",
        "    y_sum /= len(points)\n",
        "\n",
        "    center_point = {}\n",
        "    center_point['x'], center_point['y'] = x_sum, y_sum\n",
        "    R = 0\n",
        "    for i in range(len(points)):\n",
        "        R = max(R, dist(center_point, points[i]))\n",
        "    centroids = []\n",
        "    for i in range(k):\n",
        "        centroid = {}\n",
        "        centroid['x'] = x_sum + R * np.cos(2 * np.pi * i / k)\n",
        "        centroid['y'] = y_sum + R * np.sin(2 * np.pi * i / k)\n",
        "        centroids.append(centroid)\n",
        "    return centroids"
      ]
    },
    {
      "cell_type": "code",
      "source": [
        "def kmeans(points, centroids):\n",
        "    diff = 1\n",
        "    cluster = np.zeros(len(points))\n",
        "    while diff:\n",
        "        for i, point in enumerate(points):\n",
        "            min_dist = float('inf')\n",
        "            for j, centroid in enumerate(centroids):\n",
        "                d = dist(centroid, point);\n",
        "                if min_dist > d:\n",
        "                    min_dist = d\n",
        "                    cluster[i] = j\n",
        "        new_centroids =pd.DataFrame(points).groupby(by=cluster).mean().to_dict('records')\n",
        "        if centroids == new_centroids:\n",
        "            diff = 0\n",
        "        else:\n",
        "            centroids = new_centroids\n",
        "    return centroids, cluster"
      ],
      "metadata": {
        "id": "LIa2ZqB_5brd"
      },
      "execution_count": 173,
      "outputs": []
    },
    {
      "cell_type": "code",
      "source": [
        "def visualize(centroids, labels, data):\n",
        "    colors = ['r', 'g', 'b', 'y', 'purple', 'orange', 'pink', 'aqua']\n",
        "    plt.figure(figsize=(7,7))\n",
        "    for centroid in centroids:\n",
        "        plt.scatter(centroid['x'], centroid['y'], marker='x', c='black')\n",
        "    i = 0\n",
        "    for x in data:\n",
        "          plt.scatter(x['x'], x['y'], c=colors[int(labels[i])])\n",
        "          i = i+1\n",
        "    plt.show()"
      ],
      "metadata": {
        "id": "nIwo3yju8w4E"
      },
      "execution_count": 174,
      "outputs": []
    },
    {
      "cell_type": "code",
      "source": [
        "def get_kmeans_opt_centroid(point,k = 10):\n",
        "    sum_list = []\n",
        "    min = float('inf')\n",
        "    for i in range(k):\n",
        "        centroids = get_centroids(points, k)\n",
        "        centroids, cluster = kmeans(points, centroids)\n",
        "        sum = 0\n",
        "        for i, point in enumerate(points):\n",
        "            sum += dist(point, centroids[int(cluster[i])])\n",
        "            sum_list.append(sum)\n",
        "    for i in range(1, k-2):\n",
        "        val = abs(sum_list[i+1] - sum_list[i]) / abs(sum_list[i-1] - sum_list[i])\n",
        "        if (val < min):\n",
        "            k_opt = i\n",
        "            min = val           \n",
        "    return k_opt"
      ],
      "metadata": {
        "id": "cJ9nFiooH3yq"
      },
      "execution_count": 175,
      "outputs": []
    },
    {
      "cell_type": "code",
      "source": [
        "n = 150\n",
        "points = random_points(n)\n",
        "k_opt = get_kmeans_opt_centroid(points)\n",
        "centr = get_centroids(points, k_opt)\n",
        "centroids, cluster = kmeans(points, centr)\n",
        "visualize(centroids, cluster, points)"
      ],
      "metadata": {
        "colab": {
          "base_uri": "https://localhost:8080/",
          "height": 428
        },
        "id": "xx3j_-ej8RdJ",
        "outputId": "a0bef63c-a50e-41e7-f2e3-d7a11bca83bd"
      },
      "execution_count": 176,
      "outputs": [
        {
          "output_type": "display_data",
          "data": {
            "image/png": "[encoded data removed]",
            "text/plain": [
              "<Figure size 504x504 with 1 Axes>"
            ]
          },
          "metadata": {
            "needs_background": "light"
          }
        }
      ]
    }
  ]
}